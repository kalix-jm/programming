{
  "nbformat": 4,
  "nbformat_minor": 0,
  "metadata": {
    "colab": {
      "name": "OperacionesNumpy2.ipynb",
      "provenance": [],
      "toc_visible": true,
      "authorship_tag": "ABX9TyPrINaQe4aMvTyn2M2hXiG+",
      "include_colab_link": true
    },
    "kernelspec": {
      "name": "python3",
      "display_name": "Python 3"
    },
    "language_info": {
      "name": "python"
    }
  },
  "cells": [
    {
      "cell_type": "markdown",
      "metadata": {
        "id": "view-in-github",
        "colab_type": "text"
      },
      "source": [
        "<a href=\"https://colab.research.google.com/github/kalix-jm/programming/blob/kalix-jm-patch-1/OperacionesNumpy2.ipynb\" target=\"_parent\"><img src=\"https://colab.research.google.com/assets/colab-badge.svg\" alt=\"Open In Colab\"/></a>"
      ]
    },
    {
      "cell_type": "markdown",
      "metadata": {
        "id": "Q6Nxt8UXw8c5"
      },
      "source": [
        "Aui vamos a usar otro operador como el exponencial, este operador utiliza al numero e como base y lo eleva al numero de la posicion de cada numero de nuestro arrego, en nuestro ejemplo, primero e^1, luego e^2, luego e^3 de la manera siguiente:"
      ]
    },
    {
      "cell_type": "code",
      "metadata": {
        "colab": {
          "base_uri": "https://localhost:8080/"
        },
        "id": "xiMTx87Tv-in",
        "outputId": "4d80b0ca-fcd4-4b6e-fc17-01d4f0bc18ad"
      },
      "source": [
        "import numpy as np\n",
        "\n",
        "ar1 = np.array([(1,2,3)])\n",
        "\n",
        "print(np.exp(ar1))"
      ],
      "execution_count": 3,
      "outputs": [
        {
          "output_type": "stream",
          "text": [
            "[[ 2.71828183  7.3890561  20.08553692]]\n"
          ],
          "name": "stdout"
        }
      ]
    },
    {
      "cell_type": "markdown",
      "metadata": {
        "id": "qjet4dBNyEht"
      },
      "source": [
        "de igual forma tenemos la funcion del logaritmo base 10 el cual aplica de la misma manera log10 n, como sigue:  "
      ]
    },
    {
      "cell_type": "code",
      "metadata": {
        "id": "l_ErziITySC-"
      },
      "source": [
        "import numpy as np \n",
        "\n",
        "ar1 = np.array([(1,2,3)])\n",
        "\n",
        "print(np.log(ar1))"
      ],
      "execution_count": null,
      "outputs": []
    }
  ]
}