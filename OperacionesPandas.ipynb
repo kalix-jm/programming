{
  "nbformat": 4,
  "nbformat_minor": 0,
  "metadata": {
    "colab": {
      "name": "OperacionesPandas.ipynb",
      "provenance": [],
      "authorship_tag": "ABX9TyOWyz9xeqKzoHxBVkb46Fgz",
      "include_colab_link": true
    },
    "kernelspec": {
      "name": "python3",
      "display_name": "Python 3"
    },
    "language_info": {
      "name": "python"
    }
  },
  "cells": [
    {
      "cell_type": "markdown",
      "metadata": {
        "id": "view-in-github",
        "colab_type": "text"
      },
      "source": [
        "<a href=\"https://colab.research.google.com/github/kalix-jm/programming/blob/kalix-jm-patch-1/OperacionesPandas.ipynb\" target=\"_parent\"><img src=\"https://colab.research.google.com/assets/colab-badge.svg\" alt=\"Open In Colab\"/></a>"
      ]
    },
    {
      "cell_type": "markdown",
      "metadata": {
        "id": "mbCLhavu1rf5"
      },
      "source": [
        "Con pandas podemos crear nuestras tablas tipo (por decirlo asi) excel de la siguiente manera:"
      ]
    },
    {
      "cell_type": "code",
      "metadata": {
        "colab": {
          "base_uri": "https://localhost:8080/"
        },
        "id": "Pr0nOHa3zxhD",
        "outputId": "3f506829-29a7-45bb-bb24-ad1d7643ad02"
      },
      "source": [
        "import pandas as pn\n",
        "\n",
        "empleado = {'Numero':[1,2,3,4,5],'Nombre':['Espe','Rosa','Mary','Pepe','Chencha'],'Salario por hora':[12,15,20,30,5]}\n",
        "\n",
        "tabla1 = pn.DataFrame(empleado)\n",
        "print(tabla1)"
      ],
      "execution_count": 4,
      "outputs": [
        {
          "output_type": "stream",
          "text": [
            "   Numero   Nombre  Salario por hora\n",
            "0       1     Espe                12\n",
            "1       2     Rosa                15\n",
            "2       3     Mary                20\n",
            "3       4     Pepe                30\n",
            "4       5  Chencha                 5\n"
          ],
          "name": "stdout"
        }
      ]
    },
    {
      "cell_type": "markdown",
      "metadata": {
        "id": "VYjedYhx4HLu"
      },
      "source": [
        "Podemos notar que de la tabla resultante, del lado derecho van del 0 al 4, esto es por la indexacion de python que le da a cada linea "
      ]
    },
    {
      "cell_type": "markdown",
      "metadata": {
        "id": "bnpLZKMo47Yp"
      },
      "source": [
        "Una vez dicho eso, ahora podemos seleccionar la cantidad de elementos que queremos que se impriman en nuestra tabla, para esto, vamos a poner entre los parentesis **el numero de la linea hasta la cual queremos llegar** desde la cima, **no la indexacion** "
      ]
    },
    {
      "cell_type": "code",
      "metadata": {
        "colab": {
          "base_uri": "https://localhost:8080/"
        },
        "id": "yZgeBBAG5bQD",
        "outputId": "0f8ee550-9e96-4c5b-d960-45a6002c5de7"
      },
      "source": [
        "import pandas as pn\n",
        "\n",
        "empleado = {'Numero':[1,2,3,4,5],'Nombre':['Espe','Rosa','Mary','Pepe','Chencha'],'Salario por hora':[12,15,20,30,5]}\n",
        "\n",
        "#En este ejemplo quiero llegar hasta la linea 3 es decir que me de los datos hasta Mary\n",
        "tabla1 = pn.DataFrame(empleado)\n",
        "print(tabla1.head(3))"
      ],
      "execution_count": 5,
      "outputs": [
        {
          "output_type": "stream",
          "text": [
            "   Numero Nombre  Salario por hora\n",
            "0       1   Espe                12\n",
            "1       2   Rosa                15\n",
            "2       3   Mary                20\n"
          ],
          "name": "stdout"
        }
      ]
    },
    {
      "cell_type": "markdown",
      "metadata": {
        "id": "9ne8Zn4b56AT"
      },
      "source": [
        "Ahora sabremos como generar la tabla a partir **de abajo hacia arriba** para esto hacemos lo siguiente y empieza a contar desde 1 siendo el ultimo elemento "
      ]
    },
    {
      "cell_type": "code",
      "metadata": {
        "id": "JjDg1kib4TG9"
      },
      "source": [
        "import pandas as pn\n",
        "\n",
        "empleado = {'Numero':[1,2,3,4,5],'Nombre':['Espe','Rosa','Mary','Pepe','Chencha'],'Salario por hora':[12,15,20,30,5]}\n",
        "\n",
        "tabla1 = pn.DataFrame(empleado)\n",
        "#Para la ultima linea\n",
        "print(tabla1.tail(1))\n",
        "#Para las 4 ultimas lineas\n",
        "print(tabla1.tail(4))"
      ],
      "execution_count": null,
      "outputs": []
    },
    {
      "cell_type": "markdown",
      "metadata": {
        "id": "RbDQvqve8GMJ"
      },
      "source": [
        "Ahora vamos a utilizr la funcion merge la cual mezcla 2 o mas tablas y el metodo en el que funciona es que da por resultado en la consola aquellas lineas las cuales cuales son coincidentes en todos sus elementos "
      ]
    },
    {
      "cell_type": "code",
      "metadata": {
        "id": "5TDGvhBv8g8u"
      },
      "source": [
        "import pandas as pn\n",
        "\n",
        "empleado1 = {'Numero':[1,2,3,4,5],'Nombre':['Espe','Rosa','Mary','Pepe','Ana'],'Salario por hora':[12,15,20,30,8]}\n",
        "empleado2 = {'Numero':[1,2,3,4,5],'Nombre':['Espe','Pacha','Mary','Pepe','Ana'],'Salario por hora':[12,15,20,30,5]}\n",
        "\n",
        "mezcla1 = pn.DataFrame(empleado1)\n",
        "mezcla2 = pn.DataFrame(empleado2)\n",
        "\n",
        "\n",
        "fusion = pn.merge(mezcla1,mezcla2)\n",
        "print(fusion)\n",
        "\n",
        "\n",
        "\n"
      ],
      "execution_count": null,
      "outputs": []
    },
    {
      "cell_type": "markdown",
      "metadata": {
        "id": "54OgE5UN-hf5"
      },
      "source": [
        "Ahora podemos filtrar nuestra tabla(base de datos) por factor, que tengan en comun y asi èste aparecera en la consola ejemplo:"
      ]
    },
    {
      "cell_type": "code",
      "metadata": {
        "colab": {
          "base_uri": "https://localhost:8080/"
        },
        "id": "_jCJQVsx-1he",
        "outputId": "cdf5fdf9-afe3-4d24-9ee3-677af8f218bc"
      },
      "source": [
        "import pandas as pn\n",
        "\n",
        "empleado1 = {'Numero':[1,2,3,4,5],'Nombre':['Espe','Rosa','Mary','Pepe','Ana'],'Salario por hora':[12,15,20,30,8]}\n",
        "empleado2 = {'Numero':[1,2,3,4,5],'Nombre':['Espe','Pacha','Mary','Pepe','Ana'],'Salario por hora':[12,15,20,30,5]}\n",
        "\n",
        "mezcla1 = pn.DataFrame(empleado1)\n",
        "mezcla2 = pn.DataFrame(empleado2)\n",
        "\n",
        "\n",
        "fusion = pn.merge(mezcla1,mezcla2,on='Salario por hora')\n",
        "print(fusion)"
      ],
      "execution_count": 13,
      "outputs": [
        {
          "output_type": "stream",
          "text": [
            "   Numero_x Nombre_x  Salario por hora  Numero_y Nombre_y\n",
            "0         1     Espe                12         1     Espe\n",
            "1         2     Rosa                15         2    Pacha\n",
            "2         3     Mary                20         3     Mary\n",
            "3         4     Pepe                30         4     Pepe\n"
          ],
          "name": "stdout"
        }
      ]
    },
    {
      "cell_type": "markdown",
      "metadata": {
        "id": "fMr5WzB1_jco"
      },
      "source": [
        "Aora vamos aaprender como unir las tablas:"
      ]
    },
    {
      "cell_type": "code",
      "metadata": {
        "colab": {
          "base_uri": "https://localhost:8080/"
        },
        "id": "rc4A34sl_6x0",
        "outputId": "7fc651fb-e878-47ab-98fe-d009f7049ada"
      },
      "source": [
        "import pandas as pn\n",
        "\n",
        "empleado = {'Numero':[1,2,3,4,5],'Nombre':['Espe','Rosa','Mary','Pepe','Ana'],'Salario por hora':[12,15,20,30,8]}\n",
        "comidas = {'tipo':['albondigas','huevos','pozole','carne','pescado'],'preciio':[250,30,300,200,500],'color':['rojo','blanco','rojo','cafe','arena']}\n",
        "\n",
        "tabla1 = pn.DataFrame(empleado)\n",
        "tabla2 = pn.DataFrame(comidas)\n",
        "\n",
        "union = tabla1.join(tabla2)\n",
        "\n",
        "print(union)\n",
        "\n"
      ],
      "execution_count": 18,
      "outputs": [
        {
          "output_type": "stream",
          "text": [
            "   Numero Nombre  Salario por hora        tipo  preciio   color\n",
            "0       1   Espe                12  albondigas      250    rojo\n",
            "1       2   Rosa                15      huevos       30  blanco\n",
            "2       3   Mary                20      pozole      300    rojo\n",
            "3       4   Pepe                30       carne      200    cafe\n",
            "4       5    Ana                 8     pescado      500   arena\n"
          ],
          "name": "stdout"
        }
      ]
    },
    {
      "cell_type": "markdown",
      "metadata": {
        "id": "VOqWRmrJG-Qx"
      },
      "source": [
        "Por ultimo aprenderemos a convertir un archivo de extension .cvs a un archivo html"
      ]
    },
    {
      "cell_type": "code",
      "metadata": {
        "id": "wtG4tHH-HOxZ"
      },
      "source": [
        "import pandas as pn \n",
        "\n",
        "caracter = pn.read_csv(ruta\\archivo.csv)\n",
        "caracter.to_html('Nice caracter') \n",
        "\n"
      ],
      "execution_count": null,
      "outputs": []
    },
    {
      "cell_type": "markdown",
      "metadata": {
        "id": "1v-0T9lRPD9S"
      },
      "source": [
        "Y con esto se nos creara un archivo llamado 'Nice caracter.html' el cual conbtendra los datos de nuestro archivo .csv y de esta manera podremos convertir varios tipos de archivos a otros tantos."
      ]
    }
  ]
}