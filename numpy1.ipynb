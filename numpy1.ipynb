{
  "nbformat": 4,
  "nbformat_minor": 0,
  "metadata": {
    "colab": {
      "name": "numpy1.ipynb",
      "provenance": [],
      "authorship_tag": "ABX9TyNxTnRLJI2TOjZvJ8nipIbC",
      "include_colab_link": true
    },
    "kernelspec": {
      "name": "python3",
      "display_name": "Python 3"
    },
    "language_info": {
      "name": "python"
    }
  },
  "cells": [
    {
      "cell_type": "markdown",
      "metadata": {
        "id": "view-in-github",
        "colab_type": "text"
      },
      "source": [
        "<a href=\"https://colab.research.google.com/github/kalix-jm/programming/blob/kalix-jm-patch-1/numpy1.ipynb\" target=\"_parent\"><img src=\"https://colab.research.google.com/assets/colab-badge.svg\" alt=\"Open In Colab\"/></a>"
      ]
    },
    {
      "cell_type": "markdown",
      "metadata": {
        "id": "Id7lLuF6fnJA"
      },
      "source": [
        "con linspace podemos hacer que haya los numeros que nosotros queramos siempre en la misma proporcion desde un numero inicial que le pasemos como primer parametro, hasta un numero final como segundo parametro y la cantidad de numero que queremos entre estos 2 siempre proporcionales entre si "
      ]
    },
    {
      "cell_type": "code",
      "metadata": {
        "id": "EyBEQMZINa4S"
      },
      "source": [
        "import numpy as np\n",
        "\n",
        "\n",
        "var1 = np.linspace(10,50,100)\n",
        "\n",
        "\n",
        "print(var1)"
      ],
      "execution_count": null,
      "outputs": []
    },
    {
      "cell_type": "markdown",
      "metadata": {
        "id": "PlSdtLZ0hKGW"
      },
      "source": [
        "Ahora vamos a decir que queremos imprimir cierto numero o lugar de \"x\" arreglo, esto lo vamos a hacer poniendo la variable y entre corchetes vamos a poner en el primer elemento el arreglo del cual nosotros queremos extraer el valor y el segundo parámetro va a ser la posicion que nosotros queremos que extraiga "
      ]
    },
    {
      "cell_type": "code",
      "metadata": {
        "colab": {
          "base_uri": "https://localhost:8080/"
        },
        "id": "0yvIjDqjhsFu",
        "outputId": "f220b7ac-3f69-454c-a8fa-af1127135604"
      },
      "source": [
        "import numpy as np \n",
        "ar1 = np.array([(1,2,3),(4,5,6),(7,8,9),(10,11,12)])\n",
        "print(ar1[2,0])"
      ],
      "execution_count": 9,
      "outputs": [
        {
          "output_type": "stream",
          "text": [
            "7\n"
          ],
          "name": "stdout"
        }
      ]
    },
    {
      "cell_type": "markdown",
      "metadata": {
        "id": "lOCryEP9irGh"
      },
      "source": [
        "Ahora vamos a imprimir a partir de un primer arreglo, la misma posicion de los arreglos restantes que nosotros deseemos "
      ]
    },
    {
      "cell_type": "code",
      "metadata": {
        "colab": {
          "base_uri": "https://localhost:8080/"
        },
        "id": "K_79c0_Zi_2G",
        "outputId": "ce63e11e-b4be-4605-e78e-447fef5e0f1b"
      },
      "source": [
        "import numpy as np \n",
        "ar1 = np.array([(1,2,3),(4,5,6),(7,8,9),(10,11,12)])\n",
        "print(ar1[0:,1])"
      ],
      "execution_count": 13,
      "outputs": [
        {
          "output_type": "stream",
          "text": [
            "[ 2  5  8 11]\n"
          ],
          "name": "stdout"
        }
      ]
    },
    {
      "cell_type": "markdown",
      "metadata": {
        "id": "WcBp39fMjqlT"
      },
      "source": [
        "Muy bien ahora si queremos saber cual es el numero con mayor o menor, hacemos lo siguiente, de igual manera podemos sumuar o sacar el valor promedio de la manera siguiente "
      ]
    },
    {
      "cell_type": "code",
      "metadata": {
        "id": "2LY3Oz71j0PV"
      },
      "source": [
        "import numpy as np \n",
        "ar1 = np.array([(1,2,3),(4,5,6),(7,8,9),(10,11,12)])\n",
        "print(ar1.max())\n",
        "print(ar1.min())\n",
        "print(ar1.sum())\n",
        "print(ar1.mean())"
      ],
      "execution_count": null,
      "outputs": []
    }
  ]
}
