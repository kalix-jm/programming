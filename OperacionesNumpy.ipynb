{
  "nbformat": 4,
  "nbformat_minor": 0,
  "metadata": {
    "colab": {
      "name": "OperacionesNumpy.ipynb",
      "provenance": [],
      "authorship_tag": "ABX9TyOLLSkDQ4TEMyOeAZt/1481",
      "include_colab_link": true
    },
    "kernelspec": {
      "name": "python3",
      "display_name": "Python 3"
    },
    "language_info": {
      "name": "python"
    }
  },
  "cells": [
    {
      "cell_type": "markdown",
      "metadata": {
        "id": "view-in-github",
        "colab_type": "text"
      },
      "source": [
        "<a href=\"https://colab.research.google.com/github/kalix-jm/programming/blob/kalix-jm-patch-1/OperacionesNumpy.ipynb\" target=\"_parent\"><img src=\"https://colab.research.google.com/assets/colab-badge.svg\" alt=\"Open In Colab\"/></a>"
      ]
    },
    {
      "cell_type": "markdown",
      "metadata": {
        "id": "YWEyQBRivBm0"
      },
      "source": [
        "Primero definiremos que es una operacion matematica:\n",
        "\n",
        "   Operacion matematica:  Es la acción de un operador sobre los elementos de un conjunto. El operador toma los elementos iniciales y los relaciona con otro elemento de un conjunto final que puede ser de la misma naturaleza o no"
      ]
    },
    {
      "cell_type": "markdown",
      "metadata": {
        "id": "9EmtodFVnsMS"
      },
      "source": [
        "Ahora podremos hacer operaciones entre arreglos de la manera siguiente: "
      ]
    },
    {
      "cell_type": "code",
      "metadata": {
        "id": "-bfIznS9nnmX"
      },
      "source": [
        "import numpy as np\n",
        "\n",
        "ar1 = np.array([(1,2,3),(4,5,6)])\n",
        "ar2 = np.array([(7,8,9),(10,11,12)])\n",
        "\n",
        "#Para sumar \n",
        "print(ar1 + ar2)\n",
        "\n",
        "#Para restar\n",
        "print(ar1 - ar2)\n",
        "\n",
        "#Para multiplicar \n",
        "print(ar1 * ar2)\n",
        "\n",
        "#Para dividir\n",
        "print(ar1 / ar2)\n",
        "\n",
        "\n"
      ],
      "execution_count": null,
      "outputs": []
    },
    {
      "cell_type": "markdown",
      "metadata": {
        "id": "1g5pPXy8pMSu"
      },
      "source": [
        "Si queremos transformar nuestro arreglo de n dimension a unidimesional podemos hacer lo siguiente: "
      ]
    },
    {
      "cell_type": "code",
      "metadata": {
        "id": "Fig5CdSLpaVz"
      },
      "source": [
        "import numpy as np\n",
        "\n",
        "ar1 = np.array([(1,2,3),(4,5,6)])\n",
        "\n",
        "print(ar1.ravel())"
      ],
      "execution_count": null,
      "outputs": []
    },
    {
      "cell_type": "markdown",
      "metadata": {
        "id": "fjkQOxqvrYCn"
      },
      "source": [
        "Ahora vere3mos una funcion interesante de la funcion suma, la cual es axis, si lo configuramos como axis = 0 ira sumando termino por termino entre las 2 dimensiones; es decir, x0 con x0, y0 con y0, y z0 con z0.\n",
        "Pero si nosotros lo configuramos como axis = 1 la funcion sumara todos los numeros de la dimension; es decir: x0 + y0 + z0 = m  \n"
      ]
    },
    {
      "cell_type": "code",
      "metadata": {
        "id": "dXwA2zACsN1z"
      },
      "source": [
        "import numpy as np\n",
        "\n",
        "ar1 = np.array([(1,2,3),(4,5,6)])\n",
        "\n",
        "print(ar1)\n",
        "print(ar1.sum(axis = 0))\n",
        "print(ar1.sum(axis = 1))"
      ],
      "execution_count": null,
      "outputs": []
    },
    {
      "cell_type": "markdown",
      "metadata": {
        "id": "C4eYORDQtHs1"
      },
      "source": [
        "Otra cosa que podemos hacer es sacar la raiz cuadrada de cada elemento de nuestro arreglo de la siguiente forma:"
      ]
    },
    {
      "cell_type": "code",
      "metadata": {
        "id": "wedgB2FstQA1"
      },
      "source": [
        "import numpy as np\n",
        "\n",
        "ar1 = np.array([(1,2,3),(4,5,6)])\n",
        "\n",
        "print(np.sqrt(ar1))"
      ],
      "execution_count": null,
      "outputs": []
    },
    {
      "cell_type": "markdown",
      "metadata": {
        "id": "NhrbX3XZtnbg"
      },
      "source": [
        "Tambien podemos sacer la desviavion estandard de nuestro arreglo de la maera siguiente: "
      ]
    },
    {
      "cell_type": "code",
      "metadata": {
        "colab": {
          "base_uri": "https://localhost:8080/"
        },
        "id": "qxxDkQH-tvyX",
        "outputId": "6a64768a-17aa-4b1e-af06-804f69394211"
      },
      "source": [
        "import numpy as np\n",
        "\n",
        "ar1 = np.array([(1,2,3),(4,5,6)])\n",
        "\n",
        "print(np.std(ar1))"
      ],
      "execution_count": 14,
      "outputs": [
        {
          "output_type": "stream",
          "text": [
            "1.707825127659933\n"
          ],
          "name": "stdout"
        }
      ]
    }
  ]
}